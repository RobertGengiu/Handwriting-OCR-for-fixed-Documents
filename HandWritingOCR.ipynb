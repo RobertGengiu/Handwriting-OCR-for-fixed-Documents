{
 "cells": [
  {
   "cell_type": "markdown",
   "id": "039353d6",
   "metadata": {},
   "source": [
    "## Install the dependencies"
   ]
  },
  {
   "cell_type": "code",
   "execution_count": null,
   "id": "814edb9c",
   "metadata": {},
   "outputs": [],
   "source": [
    "!pip install opencv-python\n",
    "!pip install numpy\n",
    "!pip install matplotlib\n",
    "!pip install opencv-contrib-python\n",
    "!pip install keras"
   ]
  },
  {
   "cell_type": "code",
   "execution_count": 53,
   "id": "fc4078a9",
   "metadata": {},
   "outputs": [],
   "source": [
    "import cv2\n",
    "import numpy as np\n",
    "import json\n",
    "import warnings\n",
    "from matplotlib import pyplot as plt\n",
    "\n",
    "warnings.filterwarnings(\"ignore\", category=FutureWarning)"
   ]
  },
  {
   "cell_type": "markdown",
   "id": "66582354",
   "metadata": {},
   "source": [
    "## Loading boxes for template"
   ]
  },
  {
   "cell_type": "code",
   "execution_count": 54,
   "id": "53d639a9",
   "metadata": {},
   "outputs": [
    {
     "name": "stdout",
     "output_type": "stream",
     "text": [
      "[\n",
      "    {\n",
      "        \"BoundingBox\": {\n",
      "            \"height\": 20,\n",
      "            \"width\": 59,\n",
      "            \"x\": 307,\n",
      "            \"y\": 180\n",
      "        },\n",
      "        \"DataType\": \"text\",\n",
      "        \"FieldName\": \"CNSeries\",\n",
      "        \"FieldType\": \"TextField\",\n",
      "        \"Mappings\": {}\n",
      "    },\n",
      "    {\n",
      "        \"BoundingBox\": {\n",
      "            \"height\": 21,\n",
      "            \"width\": 153,\n",
      "            \"x\": 387,\n",
      "            \"y\": 178\n",
      "        },\n",
      "        \"DataType\": \"text\",\n",
      "        \"FieldName\": \"BirthCertificateNumber\",\n",
      "        \"FieldType\": \"TextField\",\n",
      "        \"Mappings\": {}\n",
      "    },\n",
      "    {\n",
      "        \"BoundingBox\": {\n",
      "            \"height\": 49,\n",
      "            \"width\": 276,\n",
      "            \"x\": 454,\n",
      "            \"y\": 225\n",
      "        },\n",
      "        \"DataType\": \"cnp\",\n",
      "        \"FieldName\": \"CNP\",\n",
      "        \"FieldType\": \"TextField\",\n",
      "        \"Mappings\": {}\n",
      "    },\n",
      "    {\n",
      "        \"BoundingBox\": {\n",
      "            \"height\": 37,\n",
      "            \"width\": 525,\n",
      "            \"x\": 205,\n",
      "            \"y\": 290\n",
      "        },\n",
      "        \"DataType\": \"text\",\n",
      "        \"FieldName\": \"LastName\",\n",
      "        \"FieldType\": \"TextField\",\n",
      "        \"Mappings\": {}\n",
      "    },\n",
      "    {\n",
      "        \"BoundingBox\": {\n",
      "            \"height\": 34,\n",
      "            \"width\": 526,\n",
      "            \"x\": 205,\n",
      "            \"y\": 328\n",
      "        },\n",
      "        \"DataType\": \"text\",\n",
      "        \"FieldName\": \"FirstName\",\n",
      "        \"FieldType\": \"TextField\",\n",
      "        \"Mappings\": {}\n",
      "    },\n",
      "    {\n",
      "        \"DataType\": \"text\",\n",
      "        \"FieldName\": \"FullName\",\n",
      "        \"FieldType\": \"ComputedField\",\n",
      "        \"FieldValue\": \"{{FirstName}} {{LastName}}\",\n",
      "        \"Mappings\": {},\n",
      "        \"OnCompute\": \"computeFullName\"\n",
      "    },\n",
      "    {\n",
      "        \"BoundingBox\": {\n",
      "            \"height\": 35,\n",
      "            \"width\": 97,\n",
      "            \"x\": 105,\n",
      "            \"y\": 363\n",
      "        },\n",
      "        \"DataType\": \"text\",\n",
      "        \"FieldName\": \"Sex\",\n",
      "        \"FieldType\": \"TextField\",\n",
      "        \"Mappings\": {}\n",
      "    },\n",
      "    {\n",
      "        \"BoundingBox\": {\n",
      "            \"height\": 19,\n",
      "            \"width\": 114,\n",
      "            \"x\": 397,\n",
      "            \"y\": 379\n",
      "        },\n",
      "        \"DataType\": \"text\",\n",
      "        \"FieldName\": \"BirthYear\",\n",
      "        \"FieldType\": \"TextField\",\n",
      "        \"Mappings\": {}\n",
      "    },\n",
      "    {\n",
      "        \"BoundingBox\": {\n",
      "            \"height\": 20,\n",
      "            \"width\": 126,\n",
      "            \"x\": 512,\n",
      "            \"y\": 379\n",
      "        },\n",
      "        \"DataType\": \"text\",\n",
      "        \"FieldName\": \"BirthMonth\",\n",
      "        \"FieldType\": \"TextField\",\n",
      "        \"Mappings\": {}\n",
      "    },\n",
      "    {\n",
      "        \"BoundingBox\": {\n",
      "            \"height\": 18,\n",
      "            \"width\": 90,\n",
      "            \"x\": 640,\n",
      "            \"y\": 380\n",
      "        },\n",
      "        \"DataType\": \"text\",\n",
      "        \"FieldName\": \"BirthDay\",\n",
      "        \"FieldType\": \"TextField\",\n",
      "        \"Mappings\": {}\n",
      "    },\n",
      "    {\n",
      "        \"BoundingBox\": {\n",
      "            \"height\": 31,\n",
      "            \"width\": 306,\n",
      "            \"x\": 205,\n",
      "            \"y\": 414\n",
      "        },\n",
      "        \"DataType\": \"text\",\n",
      "        \"FieldName\": \"Place\",\n",
      "        \"FieldType\": \"TextField\",\n",
      "        \"Mappings\": {}\n",
      "    },\n",
      "    {\n",
      "        \"BoundingBox\": {\n",
      "            \"height\": 14,\n",
      "            \"width\": 308,\n",
      "            \"x\": 203,\n",
      "            \"y\": 399\n",
      "        },\n",
      "        \"FieldName\": \"PlaceLabel\",\n",
      "        \"FieldType\": \"Label\",\n",
      "        \"FieldValue\": \"Localitate/Localite/Place\",\n",
      "        \"Mappings\": {}\n",
      "    },\n",
      "    {\n",
      "        \"BoundingBox\": {\n",
      "            \"height\": 30,\n",
      "            \"width\": 217,\n",
      "            \"x\": 513,\n",
      "            \"y\": 415\n",
      "        },\n",
      "        \"DataType\": \"text\",\n",
      "        \"FieldName\": \"County\",\n",
      "        \"FieldType\": \"TextField\",\n",
      "        \"Mappings\": {}\n",
      "    },\n",
      "    {\n",
      "        \"BoundingBox\": {\n",
      "            \"height\": 16,\n",
      "            \"width\": 220,\n",
      "            \"x\": 510,\n",
      "            \"y\": 399\n",
      "        },\n",
      "        \"FieldName\": \"CountyLabel\",\n",
      "        \"FieldType\": \"Label\",\n",
      "        \"FieldValue\": \"Judetul/Departement/County\",\n",
      "        \"Mappings\": {}\n",
      "    },\n",
      "    {\n",
      "        \"BoundingBox\": {\n",
      "            \"height\": 29,\n",
      "            \"width\": 403,\n",
      "            \"x\": 327,\n",
      "            \"y\": 514\n",
      "        },\n",
      "        \"DataType\": \"text\",\n",
      "        \"FieldName\": \"FatherFirstName\",\n",
      "        \"FieldType\": \"TextField\",\n",
      "        \"Mappings\": {}\n",
      "    },\n",
      "    {\n",
      "        \"BoundingBox\": {\n",
      "            \"height\": 33,\n",
      "            \"width\": 403,\n",
      "            \"x\": 327,\n",
      "            \"y\": 480\n",
      "        },\n",
      "        \"DataType\": \"text\",\n",
      "        \"FieldName\": \"FatherLastName\",\n",
      "        \"FieldType\": \"TextField\",\n",
      "        \"Mappings\": {}\n",
      "    },\n",
      "    {\n",
      "        \"DataType\": \"text\",\n",
      "        \"FieldName\": \"FatherFullName\",\n",
      "        \"FieldType\": \"ComputedField\",\n",
      "        \"FieldValue\": \"{{FatherFirstName}} {{FatherLastName}}\",\n",
      "        \"Mappings\": {},\n",
      "        \"OnCompute\": \"computeFullName\"\n",
      "    },\n",
      "    {\n",
      "        \"BoundingBox\": {\n",
      "            \"height\": 33,\n",
      "            \"width\": 403,\n",
      "            \"x\": 327,\n",
      "            \"y\": 544\n",
      "        },\n",
      "        \"DataType\": \"text\",\n",
      "        \"FieldName\": \"MotherLastName\",\n",
      "        \"FieldType\": \"TextField\",\n",
      "        \"Mappings\": {}\n",
      "    },\n",
      "    {\n",
      "        \"BoundingBox\": {\n",
      "            \"height\": 32,\n",
      "            \"width\": 403,\n",
      "            \"x\": 327,\n",
      "            \"y\": 577\n",
      "        },\n",
      "        \"DataType\": \"text\",\n",
      "        \"FieldName\": \"MotherFirstName\",\n",
      "        \"FieldType\": \"TextField\",\n",
      "        \"Mappings\": {}\n",
      "    },\n",
      "    {\n",
      "        \"DataType\": \"text\",\n",
      "        \"FieldName\": \"MotherFullName\",\n",
      "        \"FieldType\": \"ComputedField\",\n",
      "        \"FieldValue\": \"{{MotherFirstName}} {{MotherLastName}}\",\n",
      "        \"Mappings\": {},\n",
      "        \"OnCompute\": \"computeFullName\"\n",
      "    },\n",
      "    {\n",
      "        \"BoundingBox\": {\n",
      "            \"height\": 21,\n",
      "            \"width\": 196,\n",
      "            \"x\": 165,\n",
      "            \"y\": 610\n",
      "        },\n",
      "        \"DataType\": \"text\",\n",
      "        \"FieldName\": \"BirthDocumentNumber\",\n",
      "        \"FieldType\": \"TextField\",\n",
      "        \"Mappings\": {}\n",
      "    },\n",
      "    {\n",
      "        \"BoundingBox\": {\n",
      "            \"height\": 30,\n",
      "            \"width\": 355,\n",
      "            \"x\": 385,\n",
      "            \"y\": 605\n",
      "        },\n",
      "        \"DataType\": \"text\",\n",
      "        \"FieldName\": \"CNDate\",\n",
      "        \"FieldType\": \"TextField\",\n",
      "        \"Mappings\": {}\n",
      "    },\n",
      "    {\n",
      "        \"BoundingBox\": {\n",
      "            \"height\": 36,\n",
      "            \"width\": 289,\n",
      "            \"x\": 154,\n",
      "            \"y\": 632\n",
      "        },\n",
      "        \"DataType\": \"text\",\n",
      "        \"FieldName\": \"CNRegisteredPlace\",\n",
      "        \"FieldType\": \"TextField\",\n",
      "        \"Mappings\": {}\n",
      "    },\n",
      "    {\n",
      "        \"BoundingBox\": {\n",
      "            \"height\": 38,\n",
      "            \"width\": 297,\n",
      "            \"x\": 444,\n",
      "            \"y\": 632\n",
      "        },\n",
      "        \"DataType\": \"text\",\n",
      "        \"FieldName\": \"CNRegisteredCounty\",\n",
      "        \"FieldType\": \"TextField\",\n",
      "        \"Mappings\": {}\n",
      "    },\n",
      "    {\n",
      "        \"BoundingBox\": {\n",
      "            \"height\": 23,\n",
      "            \"width\": 608,\n",
      "            \"x\": 131,\n",
      "            \"y\": 687\n",
      "        },\n",
      "        \"DataType\": \"text\",\n",
      "        \"FieldName\": \"Mentions1\",\n",
      "        \"FieldType\": \"TextField\",\n",
      "        \"Mappings\": {}\n",
      "    },\n",
      "    {\n",
      "        \"BoundingBox\": {\n",
      "            \"height\": 51,\n",
      "            \"width\": 689,\n",
      "            \"x\": 40,\n",
      "            \"y\": 708\n",
      "        },\n",
      "        \"DataType\": \"text\",\n",
      "        \"FieldName\": \"Mentions2\",\n",
      "        \"FieldType\": \"TextField\",\n",
      "        \"Mappings\": {}\n",
      "    },\n",
      "    {\n",
      "        \"DataType\": \"text\",\n",
      "        \"FieldName\": \"Mentions\",\n",
      "        \"FieldType\": \"ComputedField\",\n",
      "        \"FieldValue\": \"{{Mentions1}} {{Mentions2}}\",\n",
      "        \"Mappings\": {},\n",
      "        \"OnCompute\": \"computeFullName\"\n",
      "    },\n",
      "    {\n",
      "        \"BoundingBox\": {\n",
      "            \"height\": 41,\n",
      "            \"width\": 425,\n",
      "            \"x\": 112,\n",
      "            \"y\": 840\n",
      "        },\n",
      "        \"DataType\": \"text\",\n",
      "        \"FieldName\": \"CNRegisteredInstitution\",\n",
      "        \"FieldType\": \"TextField\",\n",
      "        \"Mappings\": {}\n",
      "    },\n",
      "    {\n",
      "        \"BoundingBox\": {\n",
      "            \"height\": 41,\n",
      "            \"width\": 169,\n",
      "            \"x\": 569,\n",
      "            \"y\": 840\n",
      "        },\n",
      "        \"DataType\": \"text\",\n",
      "        \"FieldName\": \"CNRegisteredDate\",\n",
      "        \"FieldType\": \"TextField\",\n",
      "        \"Mappings\": {}\n",
      "    }\n",
      "]\n"
     ]
    }
   ],
   "source": [
    "fObj = open(\".\\Templates\\BirthCertificate.json\")\n",
    "template = json.load(fObj)\n",
    "fields = template['Pages'][0]['Fields']\n",
    "print(json.dumps(fields, indent=4, sort_keys=True))"
   ]
  },
  {
   "cell_type": "markdown",
   "id": "ca85ad58",
   "metadata": {},
   "source": [
    "## Loading image template"
   ]
  },
  {
   "cell_type": "code",
   "execution_count": 55,
   "id": "c5d936f9",
   "metadata": {},
   "outputs": [],
   "source": [
    "templateImg = cv2.imread(\".\\Templates\\\\BirthCertificate.jpg\", cv2.IMREAD_COLOR)\n",
    "cv2.imshow(\"BirthCertificate\", templateImg)\n",
    "cv2.waitKey(0)\n",
    "cv2.destroyAllWindows()\n"
   ]
  },
  {
   "cell_type": "markdown",
   "id": "79c0e54d",
   "metadata": {},
   "source": [
    "## Displaying of bounding boxes over the template image"
   ]
  },
  {
   "cell_type": "code",
   "execution_count": 56,
   "id": "d2604d9e",
   "metadata": {},
   "outputs": [],
   "source": [
    "for field in fields:\n",
    "    if \"BoundingBox\" in field:\n",
    "        x, y, w, h = (field[\"BoundingBox\"][\"x\"], field[\"BoundingBox\"][\"y\"], field[\"BoundingBox\"][\"width\"], field[\"BoundingBox\"][\"height\"])\n",
    "        start_point = (x, y)\n",
    "        end_point = (x + w, y + h)\n",
    "        cv2.rectangle(templateImg, start_point, end_point, (0, 0, 255), 1)\n",
    "    \n",
    "cv2.imshow(\"BirthCertificate\", templateImg)\n",
    "cv2.waitKey(0)\n",
    "cv2.destroyAllWindows()"
   ]
  },
  {
   "cell_type": "markdown",
   "id": "759bacb7",
   "metadata": {},
   "source": [
    "## Feature extraction and matching using SIFT extracter\n",
    "##### img2 is the target image"
   ]
  },
  {
   "cell_type": "code",
   "execution_count": 57,
   "id": "3d98673c",
   "metadata": {},
   "outputs": [
    {
     "name": "stdout",
     "output_type": "stream",
     "text": [
      "12677\n",
      "265\n"
     ]
    }
   ],
   "source": [
    "img1 = cv2.imread(\".\\Templates\\\\BirthCertificate.jpg\", 0)\n",
    "# change with your image\n",
    "img2 = cv2.imread(\".\\Test\\\\BirthCertificateTest1.jpg\", 0)\n",
    "\n",
    "MIN_MATCH_COUNT = 10\n",
    "# Initiate SIFT detector\n",
    "sift = cv2.SIFT_create()\n",
    "# find the keypoints and descriptors with SIFT\n",
    "kp1, des1 = sift.detectAndCompute(img1,None)\n",
    "kp2, des2 = sift.detectAndCompute(img2,None)\n",
    "FLANN_INDEX_KDTREE = 1\n",
    "index_params = dict(algorithm = FLANN_INDEX_KDTREE, trees = 5)\n",
    "search_params = dict(checks = 50)\n",
    "flann = cv2.FlannBasedMatcher(index_params, search_params)\n",
    "matches = flann.knnMatch(des1,des2,k=2)\n",
    "# store all the good matches as per Lowe's ratio test.\n",
    "good = []\n",
    "for m,n in matches:\n",
    "    if m.distance < 0.7*n.distance:\n",
    "        good.append(m)\n",
    "\n",
    "print(len(matches))\n",
    "print(len(good))\n"
   ]
  },
  {
   "cell_type": "markdown",
   "id": "f8dce400",
   "metadata": {},
   "source": [
    "## Showing of matching points and their corresponding"
   ]
  },
  {
   "cell_type": "code",
   "execution_count": 58,
   "id": "6d1d8125",
   "metadata": {},
   "outputs": [
    {
     "data": {
      "image/png": "[encoded data removed]",
      "text/plain": [
       "<Figure size 432x288 with 1 Axes>"
      ]
     },
     "metadata": {
      "needs_background": "light"
     },
     "output_type": "display_data"
    },
    {
     "data": {
      "text/plain": [
       "(<matplotlib.image.AxesImage at 0x251a181ca00>, None)"
      ]
     },
     "execution_count": 58,
     "metadata": {},
     "output_type": "execute_result"
    }
   ],
   "source": [
    "if len(good)>MIN_MATCH_COUNT:\n",
    "    src_pts = np.float32([ kp1[m.queryIdx].pt for m in good ]).reshape(-1,1,2)\n",
    "    dst_pts = np.float32([ kp2[m.trainIdx].pt for m in good ]).reshape(-1,1,2)\n",
    "    M, mask = cv2.findHomography(src_pts, dst_pts, cv2.RANSAC,5.0)\n",
    "    matchesMask = mask.ravel().tolist()\n",
    "    h,w = img1.shape\n",
    "    pts = np.float32([ [0,0],[0,h-1],[w-1,h-1],[w-1,0] ]).reshape(-1,1,2)\n",
    "    dst = cv2.perspectiveTransform(pts,M)\n",
    "    img2 = cv2.polylines(img2,[np.int32(dst)],True,255,3, cv2.LINE_AA)\n",
    "else:\n",
    "    print( \"Not enough matches are found - {}/{}\".format(len(good), MIN_MATCH_COUNT) )\n",
    "    matchesMask = None\n",
    "\n",
    "draw_params = dict(matchColor = (0,255,0), # draw matches in green color\n",
    "                   singlePointColor = None,\n",
    "                   matchesMask = matchesMask, # draw only inliers\n",
    "                   flags = 2)\n",
    "img3 = cv2.drawMatches(img1,kp1,img2,kp2,good,None,**draw_params)\n",
    "plt.imshow(img3, 'gray'),plt.show()"
   ]
  },
  {
   "cell_type": "markdown",
   "id": "2816bfaf",
   "metadata": {},
   "source": [
    "## Perspective Transform of the target image"
   ]
  },
  {
   "cell_type": "code",
   "execution_count": 59,
   "id": "4a71c63b",
   "metadata": {},
   "outputs": [],
   "source": [
    "H_inv, status  = cv2.findHomography(dst_pts, src_pts, cv2.RANSAC,5.0)\n",
    "im_dst = cv2.warpPerspective(img2, H_inv, (w,h))\n",
    "#plt.imshow(im_dst, 'gray'),plt.show()\n",
    "\n",
    "for field in fields:\n",
    "    if \"BoundingBox\" in field:\n",
    "        x, y, w, h = (field[\"BoundingBox\"][\"x\"], field[\"BoundingBox\"][\"y\"], field[\"BoundingBox\"][\"width\"], field[\"BoundingBox\"][\"height\"])\n",
    "        start_point = (x, y)\n",
    "        end_point = (x + w, y + h)\n",
    "        cv2.rectangle(im_dst, start_point, end_point, (0, 0, 255), 1)\n",
    "\n",
    "cv2.imshow(\"BirthCertificate\", im_dst)\n",
    "cv2.waitKey(0)\n",
    "cv2.destroyAllWindows()"
   ]
  },
  {
   "cell_type": "markdown",
   "id": "48adfb81",
   "metadata": {},
   "source": [
    "## Cropping of the \"CNP\" field for character recognition"
   ]
  },
  {
   "cell_type": "code",
   "execution_count": 60,
   "id": "b066db2f",
   "metadata": {},
   "outputs": [],
   "source": [
    "cnp = fields[2]\n",
    "bbox = cnp['BoundingBox']\n",
    "x = bbox['x']\n",
    "y = bbox['y']\n",
    "w = bbox['width']\n",
    "h = bbox['height']\n",
    "\n",
    "cnp_img = im_dst[y:y+h, x:x+w]\n",
    "cv2.imshow(\"CNP\", cnp_img)\n",
    "cv2.waitKey(0)\n",
    "cv2.destroyAllWindows()"
   ]
  },
  {
   "cell_type": "markdown",
   "id": "dd2e0b2f",
   "metadata": {},
   "source": [
    "## Building of the numbers classifier\n",
    "#### Ensemble training using multiple CNN models"
   ]
  },
  {
   "cell_type": "code",
   "execution_count": 61,
   "id": "fbfd72e7",
   "metadata": {},
   "outputs": [
    {
     "name": "stdout",
     "output_type": "stream",
     "text": [
      "X_train: (60000, 28, 28)\n",
      "Y_train: (60000,)\n",
      "X_test:  (10000, 28, 28)\n",
      "Y_test:  (10000,)\n"
     ]
    }
   ],
   "source": [
    "from keras.datasets import mnist\n",
    "import seaborn as sns\n",
    "from sklearn.metrics import confusion_matrix, mean_squared_error\n",
    "from sklearn.model_selection import train_test_split\n",
    "import itertools\n",
    "import math\n",
    "from sklearn.model_selection import train_test_split, KFold\n",
    "from keras.optimizers import Adam\n",
    "from keras.preprocessing.image import ImageDataGenerator\n",
    "from keras.models import Sequential\n",
    "from keras.layers import Dense, Dropout, Flatten, Conv2D, MaxPool2D\n",
    "from keras.utils.np_utils import to_categorical # convert to one-hot-encoding\n",
    "from keras.layers import BatchNormalization\n",
    "from keras.optimizers import Adam, RMSprop, Adagrad\n",
    "\n",
    "(train_X, train_y), (test_X, test_y) = mnist.load_data()\n",
    "\n",
    "print('X_train: ' + str(train_X.shape))\n",
    "print('Y_train: ' + str(train_y.shape))\n",
    "print('X_test:  '  + str(test_X.shape))\n",
    "print('Y_test:  '  + str(test_y.shape))"
   ]
  },
  {
   "cell_type": "code",
   "execution_count": 19,
   "id": "359da6b2",
   "metadata": {},
   "outputs": [
    {
     "data": {
      "image/png": "[encoded data removed]",
      "text/plain": [
       "<Figure size 432x288 with 1 Axes>"
      ]
     },
     "metadata": {
      "needs_background": "light"
     },
     "output_type": "display_data"
    },
    {
     "data": {
      "image/png": "[encoded data removed]",
      "text/plain": [
       "<Figure size 432x288 with 1 Axes>"
      ]
     },
     "metadata": {
      "needs_background": "light"
     },
     "output_type": "display_data"
    },
    {
     "data": {
      "image/png": "[encoded data removed]",
      "text/plain": [
       "<Figure size 432x288 with 1 Axes>"
      ]
     },
     "metadata": {
      "needs_background": "light"
     },
     "output_type": "display_data"
    },
    {
     "data": {
      "image/png": "[encoded data removed]",
      "text/plain": [
       "<Figure size 432x288 with 1 Axes>"
      ]
     },
     "metadata": {
      "needs_background": "light"
     },
     "output_type": "display_data"
    },
    {
     "data": {
      "image/png": "[encoded data removed]",
      "text/plain": [
       "<Figure size 432x288 with 1 Axes>"
      ]
     },
     "metadata": {
      "needs_background": "light"
     },
     "output_type": "display_data"
    },
    {
     "data": {
      "image/png": "[encoded data removed]",
      "text/plain": [
       "<Figure size 432x288 with 1 Axes>"
      ]
     },
     "metadata": {
      "needs_background": "light"
     },
     "output_type": "display_data"
    },
    {
     "data": {
      "image/png": "[encoded data removed]",
      "text/plain": [
       "<Figure size 432x288 with 1 Axes>"
      ]
     },
     "metadata": {
      "needs_background": "light"
     },
     "output_type": "display_data"
    },
    {
     "data": {
      "image/png": "[encoded data removed]",
      "text/plain": [
       "<Figure size 432x288 with 1 Axes>"
      ]
     },
     "metadata": {
      "needs_background": "light"
     },
     "output_type": "display_data"
    },
    {
     "data": {
      "image/png": "[encoded data removed]",
      "text/plain": [
       "<Figure size 432x288 with 1 Axes>"
      ]
     },
     "metadata": {
      "needs_background": "light"
     },
     "output_type": "display_data"
    }
   ],
   "source": [
    "from matplotlib import pyplot\n",
    "for i in range(9):  \n",
    "    pyplot.subplot(330 + 1 + i)\n",
    "    pyplot.imshow(train_X[i], cmap=pyplot.get_cmap('gray'))\n",
    "    pyplot.show()"
   ]
  },
  {
   "cell_type": "code",
   "execution_count": 20,
   "id": "a452920a",
   "metadata": {},
   "outputs": [],
   "source": [
    "train_X = train_X / 255.0\n",
    "test_X = test_X / 255.0\n",
    "\n",
    "train_X = train_X.reshape(-1,28,28,1)\n",
    "test_X = test_X.reshape(-1,28,28,1)"
   ]
  },
  {
   "cell_type": "code",
   "execution_count": 21,
   "id": "496e2b56",
   "metadata": {},
   "outputs": [],
   "source": [
    "train_y = to_categorical(train_y, num_classes = 10)\n",
    "test_y = to_categorical(test_y, num_classes = 10)"
   ]
  },
  {
   "cell_type": "code",
   "execution_count": 22,
   "id": "094edb2c",
   "metadata": {},
   "outputs": [
    {
     "data": {
      "image/png": "[encoded data removed]",
      "text/plain": [
       "<Figure size 432x288 with 1 Axes>"
      ]
     },
     "metadata": {
      "needs_background": "light"
     },
     "output_type": "display_data"
    }
   ],
   "source": [
    "g = plt.imshow(train_X[0][:,:,0])"
   ]
  },
  {
   "cell_type": "code",
   "execution_count": 23,
   "id": "d543450f",
   "metadata": {},
   "outputs": [
    {
     "name": "stdout",
     "output_type": "stream",
     "text": [
      "All Models Defined\n"
     ]
    }
   ],
   "source": [
    "from keras.optimizers import RMSprop, Adam\n",
    "from keras.layers import DepthwiseConv2D, Reshape, Activation\n",
    "\n",
    "nets = 10\n",
    "model = [0] *nets\n",
    "\n",
    "\n",
    "for j in range(nets):\n",
    "    model[j] = Sequential()\n",
    "\n",
    "    model[j].add(Conv2D(32, kernel_size = 3, activation='relu', input_shape = (28, 28, 1)))\n",
    "    model[j].add(BatchNormalization())\n",
    "    model[j].add(Conv2D(32, kernel_size = 3, activation='relu'))\n",
    "    model[j].add(BatchNormalization())\n",
    "    model[j].add(Conv2D(32, kernel_size = 5, strides=2, padding='same', activation='relu'))\n",
    "    model[j].add(BatchNormalization())\n",
    "    model[j].add(Dropout(0.4))\n",
    "\n",
    "    model[j].add(Conv2D(64, kernel_size = 3, activation='relu'))\n",
    "    model[j].add(BatchNormalization())\n",
    "    model[j].add(Conv2D(64, kernel_size = 3, activation='relu'))\n",
    "    model[j].add(BatchNormalization())\n",
    "    model[j].add(Conv2D(64, kernel_size = 5, strides=2, padding='same', activation='relu'))\n",
    "    model[j].add(BatchNormalization())\n",
    "    model[j].add(Dropout(0.4))\n",
    "\n",
    "    model[j].add(Conv2D(128, kernel_size = 4, activation='relu'))\n",
    "    model[j].add(BatchNormalization())\n",
    "    model[j].add(Flatten())\n",
    "    model[j].add(Dropout(0.4))\n",
    "    model[j].add(Dense(10, activation='softmax'))\n",
    "\n",
    "    # COMPILE WITH ADAM OPTIMIZER AND CROSS ENTROPY COST\n",
    "    model[j].compile(optimizer='adam', loss=\"categorical_crossentropy\", metrics=[\"accuracy\"])\n",
    "    \n",
    "print('All Models Defined')"
   ]
  },
  {
   "cell_type": "code",
   "execution_count": 24,
   "id": "4793dca7",
   "metadata": {},
   "outputs": [],
   "source": [
    "# LR Reduction Callback\n",
    "from keras.callbacks import ReduceLROnPlateau\n",
    "\n",
    "learning_rate_reduction = ReduceLROnPlateau(monitor='val_accuracy', \n",
    "                                            patience=3, \n",
    "                                            verbose=0, \n",
    "                                            factor=0.5, \n",
    "                                            min_lr=0.00001)"
   ]
  },
  {
   "cell_type": "code",
   "execution_count": 25,
   "id": "a4ba8059",
   "metadata": {},
   "outputs": [
    {
     "name": "stdout",
     "output_type": "stream",
     "text": [
      "Individual Net: 1\n",
      "WARNING:tensorflow:From <ipython-input-25-01549bb911ae>:17: Model.fit_generator (from tensorflow.python.keras.engine.training) is deprecated and will be removed in a future version.\n",
      "Instructions for updating:\n",
      "Please use Model.fit, which supports generators.\n",
      "CNN Model 1: Epochs=20, Training accuracy=0.99281, Validation accuracy=0.99650\n",
      "Individual Net: 2\n",
      "CNN Model 2: Epochs=20, Training accuracy=0.99060, Validation accuracy=0.99550\n",
      "Individual Net: 3\n",
      "CNN Model 3: Epochs=20, Training accuracy=0.99305, Validation accuracy=0.99533\n",
      "Individual Net: 4\n",
      "CNN Model 4: Epochs=20, Training accuracy=0.99197, Validation accuracy=0.99550\n",
      "Individual Net: 5\n",
      "CNN Model 5: Epochs=20, Training accuracy=0.99407, Validation accuracy=0.99733\n",
      "Individual Net: 6\n",
      "CNN Model 6: Epochs=20, Training accuracy=0.99168, Validation accuracy=0.99567\n",
      "Individual Net: 7\n",
      "CNN Model 7: Epochs=20, Training accuracy=0.99262, Validation accuracy=0.99483\n",
      "Individual Net: 8\n",
      "CNN Model 8: Epochs=20, Training accuracy=0.99273, Validation accuracy=0.99617\n",
      "Individual Net: 9\n",
      "CNN Model 9: Epochs=20, Training accuracy=0.99386, Validation accuracy=0.99600\n",
      "Individual Net: 10\n",
      "CNN Model 10: Epochs=20, Training accuracy=0.99366, Validation accuracy=0.99483\n"
     ]
    }
   ],
   "source": [
    "# train for 20 epochs\n",
    "history = [0] * nets\n",
    "epochs = 20\n",
    "\n",
    "datagen = ImageDataGenerator(\n",
    "    rotation_range=13,\n",
    "    zoom_range=0.11,\n",
    "    width_shift_range=0.1,\n",
    "    height_shift_range=0.1\n",
    ")\n",
    "\n",
    "datagen.fit(train_X)\n",
    "\n",
    "for j in range(nets):  \n",
    "    print(f'Individual Net: {j+1}')   \n",
    "    X_train2, X_val2, Y_train2, Y_val2 = train_test_split(train_X, train_y, test_size = 0.1)\n",
    "    history[j] = model[j].fit_generator(datagen.flow(X_train2,Y_train2, batch_size=64),\n",
    "        epochs = epochs, steps_per_epoch = X_train2.shape[0]//64,  \n",
    "        validation_data = (X_val2,Y_val2), callbacks=[learning_rate_reduction], verbose=0)\n",
    "    \n",
    "    print(\"CNN Model {0:d}: Epochs={1:d}, Training accuracy={2:.5f}, Validation accuracy={3:.5f}\".format(\n",
    "        j+1,epochs,max(history[j].history['accuracy']),max(history[j].history['val_accuracy']) ))"
   ]
  },
  {
   "cell_type": "code",
   "execution_count": 27,
   "id": "5aea1631",
   "metadata": {},
   "outputs": [],
   "source": [
    "#Result\n",
    "results = np.zeros( (test_X.shape[0],10) ) \n",
    "for j in range(nets):\n",
    "    results = results + model[j].predict(test_X)\n",
    "    \n",
    "results = np.argmax(results,axis = 1)"
   ]
  },
  {
   "cell_type": "code",
   "execution_count": 28,
   "id": "7397714c",
   "metadata": {},
   "outputs": [
    {
     "data": {
      "text/plain": [
       "Text(0.5, 1.0, '7')"
      ]
     },
     "execution_count": 28,
     "metadata": {},
     "output_type": "execute_result"
    },
    {
     "data": {
      "image/png": "[encoded data removed]",
      "text/plain": [
       "<Figure size 432x288 with 1 Axes>"
      ]
     },
     "metadata": {
      "needs_background": "light"
     },
     "output_type": "display_data"
    }
   ],
   "source": [
    "#Test on result\n",
    "plt.imshow(test_X[0][:,:,0])\n",
    "plt.title(results[0])"
   ]
  },
  {
   "cell_type": "code",
   "execution_count": 29,
   "id": "327d1fc1",
   "metadata": {},
   "outputs": [
    {
     "data": {
      "image/png": "[encoded data removed]",
      "text/plain": [
       "<Figure size 864x864 with 16 Axes>"
      ]
     },
     "metadata": {
      "needs_background": "light"
     },
     "output_type": "display_data"
    }
   ],
   "source": [
    "L = 4\n",
    "W = 4\n",
    "fig, axes = plt.subplots(L, W, figsize = (12,12))\n",
    "axes = axes.ravel()\n",
    "\n",
    "for i in np.arange(0, L * W):  \n",
    "    axes[i].imshow(test_X[i].reshape(28,28))\n",
    "    axes[i].set_title(results[i])\n",
    "    axes[i].axis('off')\n",
    "plt.subplots_adjust(wspace=0.5)"
   ]
  },
  {
   "cell_type": "markdown",
   "id": "2cf5b4a1",
   "metadata": {},
   "source": [
    "## Saving the models"
   ]
  },
  {
   "cell_type": "code",
   "execution_count": 30,
   "id": "ff0ab0d8",
   "metadata": {},
   "outputs": [
    {
     "name": "stdout",
     "output_type": "stream",
     "text": [
      "Model: \"sequential\"\n",
      "_________________________________________________________________\n",
      "Layer (type)                 Output Shape              Param #   \n",
      "=================================================================\n",
      "conv2d (Conv2D)              (None, 26, 26, 32)        320       \n",
      "_________________________________________________________________\n",
      "batch_normalization (BatchNo (None, 26, 26, 32)        128       \n",
      "_________________________________________________________________\n",
      "conv2d_1 (Conv2D)            (None, 24, 24, 32)        9248      \n",
      "_________________________________________________________________\n",
      "batch_normalization_1 (Batch (None, 24, 24, 32)        128       \n",
      "_________________________________________________________________\n",
      "conv2d_2 (Conv2D)            (None, 12, 12, 32)        25632     \n",
      "_________________________________________________________________\n",
      "batch_normalization_2 (Batch (None, 12, 12, 32)        128       \n",
      "_________________________________________________________________\n",
      "dropout (Dropout)            (None, 12, 12, 32)        0         \n",
      "_________________________________________________________________\n",
      "conv2d_3 (Conv2D)            (None, 10, 10, 64)        18496     \n",
      "_________________________________________________________________\n",
      "batch_normalization_3 (Batch (None, 10, 10, 64)        256       \n",
      "_________________________________________________________________\n",
      "conv2d_4 (Conv2D)            (None, 8, 8, 64)          36928     \n",
      "_________________________________________________________________\n",
      "batch_normalization_4 (Batch (None, 8, 8, 64)          256       \n",
      "_________________________________________________________________\n",
      "conv2d_5 (Conv2D)            (None, 4, 4, 64)          102464    \n",
      "_________________________________________________________________\n",
      "batch_normalization_5 (Batch (None, 4, 4, 64)          256       \n",
      "_________________________________________________________________\n",
      "dropout_1 (Dropout)          (None, 4, 4, 64)          0         \n",
      "_________________________________________________________________\n",
      "conv2d_6 (Conv2D)            (None, 1, 1, 128)         131200    \n",
      "_________________________________________________________________\n",
      "batch_normalization_6 (Batch (None, 1, 1, 128)         512       \n",
      "_________________________________________________________________\n",
      "flatten (Flatten)            (None, 128)               0         \n",
      "_________________________________________________________________\n",
      "dropout_2 (Dropout)          (None, 128)               0         \n",
      "_________________________________________________________________\n",
      "dense (Dense)                (None, 10)                1290      \n",
      "=================================================================\n",
      "Total params: 327,242\n",
      "Trainable params: 326,410\n",
      "Non-trainable params: 832\n",
      "_________________________________________________________________\n"
     ]
    }
   ],
   "source": [
    "model[0].summary()\n",
    "for j in range(nets): \n",
    "    model[j].save(\"digits_model\" + str(j) + \".h5\")"
   ]
  },
  {
   "cell_type": "markdown",
   "id": "41fde4ff",
   "metadata": {},
   "source": [
    "## Loading the models for inference"
   ]
  },
  {
   "cell_type": "code",
   "execution_count": 31,
   "id": "bd49d6ad",
   "metadata": {},
   "outputs": [],
   "source": [
    "from keras.models import load_model\n",
    "\n",
    "nets = 10\n",
    "model = [0] *nets\n",
    "\n",
    "for j in range(nets):\n",
    "    model[j] = load_model(\"digits_model\" + str(j) + \".h5\")"
   ]
  },
  {
   "cell_type": "markdown",
   "id": "04de394d",
   "metadata": {},
   "source": [
    "## Binarization"
   ]
  },
  {
   "cell_type": "code",
   "execution_count": 41,
   "id": "e96c8458",
   "metadata": {},
   "outputs": [],
   "source": [
    "img_gray = cnp_img.copy()\n",
    "\n",
    "# apply binary thresholding\n",
    "ret, thresh = cv2.threshold(img_gray, 180, 255, cv2.THRESH_BINARY)\n",
    "\n",
    "image_final = cv2.bitwise_and(img_gray, img_gray, mask=thresh)\n",
    "\n",
    "ret, new_img =  cv2.threshold(image_final, 180, 255, cv2.THRESH_BINARY_INV)\n",
    "\n",
    "#kernel = cv2.getStructuringElement(cv2.MORPH_CROSS, (3,3)) \n",
    "#dilated = cv2.dilate(new_img, kernel, iterations=9)\n",
    "\n",
    "# # visualize the binary image\n",
    "cv2.imshow('thresh', new_img)\n",
    "cv2.waitKey(0)\n",
    "# cv2.imwrite('image_thres1.jpg', thresh)\n",
    "cv2.destroyAllWindows()"
   ]
  },
  {
   "cell_type": "markdown",
   "id": "11a66c0d",
   "metadata": {},
   "source": [
    "## Contours detection of characters and sorting from left to right"
   ]
  },
  {
   "cell_type": "code",
   "execution_count": 42,
   "id": "1835b0e6",
   "metadata": {},
   "outputs": [],
   "source": [
    "# # detect the contours on the binary image using cv2.CHAIN_APPROX_NONE\n",
    "contours, hierarchy = cv2.findContours(image=new_img, mode=cv2.RETR_EXTERNAL, method=cv2.CHAIN_APPROX_NONE)\n",
    "                                     \n",
    "# # draw contours on the original image\n",
    "image_copy = cnp_img.copy()\n",
    "cv2.drawContours(image=image_copy, contours=contours, contourIdx=-1, color=(0, 255, 0), thickness=1, lineType=cv2.LINE_AA)\n",
    "               \n",
    "# # see the results\n",
    "cv2.imshow('None approximation', image_copy)\n",
    "cv2.waitKey(0)\n",
    "# cv2.imwrite('contours_none_image1.jpg', image_copy)\n",
    "cv2.destroyAllWindows()"
   ]
  },
  {
   "cell_type": "code",
   "execution_count": 43,
   "id": "55bb04fd",
   "metadata": {},
   "outputs": [],
   "source": [
    "import sys\n",
    "\n",
    "epsilon = sys.float_info.epsilon\n",
    "cnts = []\n",
    "for cnt in contours:\n",
    "    x,y,w,h = cv2.boundingRect(cnt)\n",
    "    ratio = w / (h + epsilon)\n",
    "    area = cv2.contourArea(cnt)\n",
    "    if ratio >= 0.2 and ratio <= 1.2 and area > 30 and area < 150:\n",
    "            cnts.append(cnt)\n",
    "    \n",
    "\n",
    "\n",
    "mask = np.ones(image_copy.shape, dtype=\"uint8\") * 255\n",
    "cv2.drawContours(mask, cnts, -1, (0,0,0),-1)\n",
    "cv2.imshow(\"Contours\", mask)\n",
    "cv2.waitKey(0)\n",
    "cv2.destroyAllWindows()"
   ]
  },
  {
   "cell_type": "code",
   "execution_count": 44,
   "id": "a9a87fe7",
   "metadata": {},
   "outputs": [],
   "source": [
    "def sort_contours(cnts, method=\"left-to-right\"):\n",
    "    # initialize the reverse flag and sort index\n",
    "    reverse = False\n",
    "    i = 0\n",
    "\n",
    "    # handle if we need to sort in reverse\n",
    "    if method == \"right-to-left\" or method == \"bottom-to-top\":\n",
    "        reverse = True\n",
    "\n",
    "    # handle if we are sorting against the y-coordinate rather than\n",
    "    # the x-coordinate of the bounding box\n",
    "    if method == \"top-to-bottom\" or method == \"bottom-to-top\":\n",
    "        i = 1\n",
    "\n",
    "    # construct the list of bounding boxes and sort them from top to\n",
    "    # bottom\n",
    "    boundingBoxes = [cv2.boundingRect(c) for c in cnts]\n",
    "    (cnts, boundingBoxes) = zip(*sorted(zip(cnts, boundingBoxes),\n",
    "        key=lambda b:b[1][i], reverse=reverse))\n",
    "\n",
    "    # return the list of sorted contours and bounding boxes\n",
    "    return (cnts, boundingBoxes)"
   ]
  },
  {
   "cell_type": "code",
   "execution_count": 45,
   "id": "9d9fe869",
   "metadata": {},
   "outputs": [],
   "source": [
    "cnts, bbx = sort_contours(cnts)\n",
    "\n",
    "distances = []\n",
    "prev = None\n",
    "first = True\n",
    "\n",
    "for cnt in cnts:\n",
    "    if first == True:\n",
    "        prev = cnt\n",
    "        first = False\n",
    "    \n",
    "    else:\n",
    "        x,y,_,_ = cv2.boundingRect(cnt)\n",
    "        xp,yp,_,_ = cv2.boundingRect(prev)\n",
    "        distances.append(x - xp)\n",
    "    \n",
    "    prev = cnt"
   ]
  },
  {
   "cell_type": "markdown",
   "id": "6544dbb8",
   "metadata": {},
   "source": [
    "## Dropping outlier contours"
   ]
  },
  {
   "cell_type": "code",
   "execution_count": 46,
   "id": "5ce11bf4",
   "metadata": {},
   "outputs": [],
   "source": [
    "standard_deviation = np.std(distances)\n",
    "mean_average = np.mean(distances)"
   ]
  },
  {
   "cell_type": "code",
   "execution_count": 50,
   "id": "90dca6b4",
   "metadata": {},
   "outputs": [],
   "source": [
    "from math import ceil, floor\n",
    "\n",
    "def accepted(value, standard_deviation, mean_average):\n",
    "    a = value < ceil(mean_average) + 2 * ceil(standard_deviation)\n",
    "    b = value < floor(mean_average) - 2 * 2 * ceil(standard_deviation)\n",
    "    return a and b\n",
    "    \n",
    "\n",
    "filtered_cnts = []\n",
    "\n",
    "if len(cnts) <= 13:\n",
    "    filtered_cnts = cnts\n",
    "\n",
    "if len(cnts) > 13:\n",
    "    left_hand = []\n",
    "    right_hand = []\n",
    "    \n",
    "    for i in range(0, (len(distances) + 1) // 2):\n",
    "        if accepted(distances[i], standard_deviation, mean_average):\n",
    "            left_hand.append(cnt[i])\n",
    "    \n",
    "    for i in range(len(distances), (len(distances) + 1) // 2, -1):\n",
    "        if accepted(distances[i], standard_deviation, mean_average):\n",
    "            right_hand.append(cnt[i+1])\n",
    "\n",
    "    filtered_cnts = left_hand + reverse(right_hand)\n"
   ]
  },
  {
   "cell_type": "markdown",
   "id": "d3a512a0",
   "metadata": {},
   "source": [
    "## Turning a character in input for classification"
   ]
  },
  {
   "cell_type": "code",
   "execution_count": 51,
   "id": "0b0f2433",
   "metadata": {},
   "outputs": [],
   "source": [
    "numbers = []\n",
    "kernel_sharpening = np.array([[-1,-1,-1], \n",
    "                              [-1, 9,-1],\n",
    "                              [-1,-1,-1]])\n",
    "\n",
    "\n",
    "for cnt in filtered_cnts:\n",
    "    x, y, w, h = cv2.boundingRect(cnt)\n",
    "    number = cnp_img[y-2:y+h+2, x-2:x+w+2]\n",
    "    invert = cv2.bitwise_not(number)\n",
    "    resized = cv2.resize(invert, (28, 28), interpolation=cv2.INTER_CUBIC)\n",
    "    sharpened = cv2.filter2D(resized, -1, kernel_sharpening)\n",
    "    numbers.append(sharpened)\n",
    "    cv2.imshow(\"CNP\", sharpened)\n",
    "    cv2.waitKey(0)\n",
    "    cv2.destroyAllWindows()"
   ]
  },
  {
   "cell_type": "markdown",
   "id": "ca9829dc",
   "metadata": {},
   "source": [
    "## Inference"
   ]
  },
  {
   "cell_type": "code",
   "execution_count": 52,
   "id": "0cdec245",
   "metadata": {},
   "outputs": [
    {
     "name": "stdout",
     "output_type": "stream",
     "text": [
      "WARNING:tensorflow:5 out of the last 317 calls to <function Model.make_predict_function.<locals>.predict_function at 0x000002519D681EE0> triggered tf.function retracing. Tracing is expensive and the excessive number of tracings could be due to (1) creating @tf.function repeatedly in a loop, (2) passing tensors with different shapes, (3) passing Python objects instead of tensors. For (1), please define your @tf.function outside of the loop. For (2), @tf.function has experimental_relax_shapes=True option that relaxes argument shapes that can avoid unnecessary retracing. For (3), please refer to https://www.tensorflow.org/tutorials/customization/performance#python_or_tensor_args and https://www.tensorflow.org/api_docs/python/tf/function for  more details.\n",
      "WARNING:tensorflow:6 out of the last 318 calls to <function Model.make_predict_function.<locals>.predict_function at 0x000002519D7A0CA0> triggered tf.function retracing. Tracing is expensive and the excessive number of tracings could be due to (1) creating @tf.function repeatedly in a loop, (2) passing tensors with different shapes, (3) passing Python objects instead of tensors. For (1), please define your @tf.function outside of the loop. For (2), @tf.function has experimental_relax_shapes=True option that relaxes argument shapes that can avoid unnecessary retracing. For (3), please refer to https://www.tensorflow.org/tutorials/customization/performance#python_or_tensor_args and https://www.tensorflow.org/api_docs/python/tf/function for  more details.\n",
      "WARNING:tensorflow:7 out of the last 319 calls to <function Model.make_predict_function.<locals>.predict_function at 0x000002513AB409D0> triggered tf.function retracing. Tracing is expensive and the excessive number of tracings could be due to (1) creating @tf.function repeatedly in a loop, (2) passing tensors with different shapes, (3) passing Python objects instead of tensors. For (1), please define your @tf.function outside of the loop. For (2), @tf.function has experimental_relax_shapes=True option that relaxes argument shapes that can avoid unnecessary retracing. For (3), please refer to https://www.tensorflow.org/tutorials/customization/performance#python_or_tensor_args and https://www.tensorflow.org/api_docs/python/tf/function for  more details.\n",
      "WARNING:tensorflow:8 out of the last 320 calls to <function Model.make_predict_function.<locals>.predict_function at 0x00000251A0F6C430> triggered tf.function retracing. Tracing is expensive and the excessive number of tracings could be due to (1) creating @tf.function repeatedly in a loop, (2) passing tensors with different shapes, (3) passing Python objects instead of tensors. For (1), please define your @tf.function outside of the loop. For (2), @tf.function has experimental_relax_shapes=True option that relaxes argument shapes that can avoid unnecessary retracing. For (3), please refer to https://www.tensorflow.org/tutorials/customization/performance#python_or_tensor_args and https://www.tensorflow.org/api_docs/python/tf/function for  more details.\n",
      "WARNING:tensorflow:9 out of the last 321 calls to <function Model.make_predict_function.<locals>.predict_function at 0x00000251A107E430> triggered tf.function retracing. Tracing is expensive and the excessive number of tracings could be due to (1) creating @tf.function repeatedly in a loop, (2) passing tensors with different shapes, (3) passing Python objects instead of tensors. For (1), please define your @tf.function outside of the loop. For (2), @tf.function has experimental_relax_shapes=True option that relaxes argument shapes that can avoid unnecessary retracing. For (3), please refer to https://www.tensorflow.org/tutorials/customization/performance#python_or_tensor_args and https://www.tensorflow.org/api_docs/python/tf/function for  more details.\n",
      "WARNING:tensorflow:10 out of the last 322 calls to <function Model.make_predict_function.<locals>.predict_function at 0x00000251A119F1F0> triggered tf.function retracing. Tracing is expensive and the excessive number of tracings could be due to (1) creating @tf.function repeatedly in a loop, (2) passing tensors with different shapes, (3) passing Python objects instead of tensors. For (1), please define your @tf.function outside of the loop. For (2), @tf.function has experimental_relax_shapes=True option that relaxes argument shapes that can avoid unnecessary retracing. For (3), please refer to https://www.tensorflow.org/tutorials/customization/performance#python_or_tensor_args and https://www.tensorflow.org/api_docs/python/tf/function for  more details.\n",
      "WARNING:tensorflow:11 out of the last 323 calls to <function Model.make_predict_function.<locals>.predict_function at 0x00000251A107EEE0> triggered tf.function retracing. Tracing is expensive and the excessive number of tracings could be due to (1) creating @tf.function repeatedly in a loop, (2) passing tensors with different shapes, (3) passing Python objects instead of tensors. For (1), please define your @tf.function outside of the loop. For (2), @tf.function has experimental_relax_shapes=True option that relaxes argument shapes that can avoid unnecessary retracing. For (3), please refer to https://www.tensorflow.org/tutorials/customization/performance#python_or_tensor_args and https://www.tensorflow.org/api_docs/python/tf/function for  more details.\n",
      "[[2.11421517e-02 1.70057718e-04 8.33511462e-01 9.02061704e-03\n",
      "  7.70573998e-03 7.80743560e-02 4.05074303e+00 5.00675911e-04\n",
      "  4.29201388e+00 7.07118078e-01]]\n",
      "8\n",
      "[[7.51336587e-03 1.27125602e-02 5.06844060e-02 2.52072092e-02\n",
      "  6.17825109e+00 8.42446675e-03 4.23075391e-03 4.39692330e-02\n",
      "  3.61671048e+00 5.22964663e-02]]\n",
      "4\n",
      "[[2.12452436e-02 1.51603010e-02 6.72066618e-01 5.96716683e-02\n",
      "  1.58342011e+00 5.05988454e-03 3.78932102e-03 7.28428168e-02\n",
      "  7.46001178e+00 1.06732063e-01]]\n",
      "8\n",
      "[[9.99991000e+00 3.08834811e-08 7.11537496e-06 1.24246949e-07\n",
      "  1.57880635e-07 3.26983352e-07 4.20799541e-05 1.36901639e-07\n",
      "  1.40494894e-05 2.62410951e-05]]\n",
      "0\n",
      "[[8.27456220e-03 2.83794503e-05 9.35107464e+00 2.93968357e-04\n",
      "  6.61774993e-02 2.62061955e-04 4.10125716e-04 5.77303821e-03\n",
      "  5.66227151e-01 1.47834564e-03]]\n",
      "2\n",
      "[[5.35415445e+00 1.78475021e-05 4.90460554e-02 1.27594281e-04\n",
      "  2.40698115e-02 1.29074095e-04 5.19583687e-03 2.06152235e-04\n",
      "  1.49894582e-02 4.55206375e+00]]\n",
      "0\n",
      "[[1.38461686e-01 1.77625909e-06 2.41847266e-04 1.25165050e-03\n",
      "  3.04347058e-06 8.28243144e-03 5.17394986e+00 1.16364436e-06\n",
      "  4.67749811e+00 3.08365736e-04]]\n",
      "6\n",
      "[[4.49568502e-03 2.26584042e-03 1.20463203e-02 4.11428833e-03\n",
      "  5.61429651e+00 2.25618784e-02 1.24706719e-01 4.89044046e-02\n",
      "  1.21718111e+00 2.94942698e+00]]\n",
      "4\n",
      "[[1.65537318e-05 3.98563345e-05 3.35737566e-04 7.95443839e+00\n",
      "  6.48456822e-05 2.03696991e+00 4.08774811e-04 4.89428043e-05\n",
      "  7.60427719e-03 7.26305248e-05]]\n",
      "3\n",
      "[[9.99694604e+00 2.57330941e-07 1.05047403e-03 9.16163246e-07\n",
      "  8.00033259e-06 2.14171504e-06 1.39292303e-04 2.27530704e-06\n",
      "  9.98852934e-04 8.52105665e-04]]\n",
      "0\n",
      "[[2.44721097e-05 9.55634048e-07 9.99905354e+00 5.45468648e-06\n",
      "  1.12825571e-04 6.23579754e-07 8.99116466e-07 3.62470137e-04\n",
      "  2.37645690e-04 2.01126233e-04]]\n",
      "2\n",
      "[[1.09794437e-01 3.03319123e-05 2.00849118e-03 4.15698448e-03\n",
      "  5.37200896e-05 6.74375144e-02 5.69504336e+00 1.73470011e-05\n",
      "  4.11907424e+00 2.38349469e-03]]\n",
      "6\n"
     ]
    }
   ],
   "source": [
    "for number in numbers:\n",
    "    number = number.reshape(-1, 28, 28, 1)\n",
    "    number = number / 255.0\n",
    "    result = np.zeros( (number.shape[0],10) ) \n",
    "    for j in range(nets):\n",
    "        result = result + model[j].predict(number)\n",
    "    print(result)\n",
    "    result = np.argmax(result,axis = 1)\n",
    "    print(result[0])\n",
    "    \n",
    "    #plt.imshow(number[0][:,:,0])\n",
    "    #plt.title(result[0])"
   ]
  },
  {
   "cell_type": "code",
   "execution_count": null,
   "id": "72b36858",
   "metadata": {},
   "outputs": [],
   "source": []
  }
 ],
 "metadata": {
  "interpreter": {
   "hash": "a458ccf0f538d3f346a6485c56f2bfc536c9bac95fb13427c081ccb1513051d6"
  },
  "kernelspec": {
   "display_name": "Python 3",
   "language": "python",
   "name": "python3"
  },
  "language_info": {
   "codemirror_mode": {
    "name": "ipython",
    "version": 3
   },
   "file_extension": ".py",
   "mimetype": "text/x-python",
   "name": "python",
   "nbconvert_exporter": "python",
   "pygments_lexer": "ipython3",
   "version": "3.8.8"
  }
 },
 "nbformat": 4,
 "nbformat_minor": 5
}
